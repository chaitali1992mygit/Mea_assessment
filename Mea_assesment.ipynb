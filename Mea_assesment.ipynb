{
 "cells": [
  {
   "cell_type": "code",
   "execution_count": 49,
   "id": "eae9900a-58e9-4a45-819e-5888920a06c4",
   "metadata": {},
   "outputs": [],
   "source": [
    "###Data Manipulation Tasks (Pandas and Numpy)\n",
    "#4.Pandas Data Manipulation\n",
    "#Given a CSV file with sales data (sales.csv), perform the following tasks:\n",
    "#•Load the data into a Pandas DataFrame.\n",
    "#•Calculate the total sales for each product category.\n",
    "#•Find the top 5 products with the highest sales."
   ]
  },
  {
   "cell_type": "code",
   "execution_count": 51,
   "id": "a49bc834-b59a-46f0-b5b9-9efe5ef59154",
   "metadata": {},
   "outputs": [],
   "source": [
    "##Load the data into a Pandas DataFrame"
   ]
  },
  {
   "cell_type": "code",
   "execution_count": 57,
   "id": "c61a0c30-d72e-432e-99a9-70f7912fb897",
   "metadata": {},
   "outputs": [],
   "source": [
    "#Import libreries \n",
    "\n",
    "import pandas as pd\n",
    "import numpy as np"
   ]
  },
  {
   "cell_type": "code",
   "execution_count": 55,
   "id": "ec252299-9dc3-430c-ac98-552546f5d218",
   "metadata": {},
   "outputs": [
    {
     "data": {
      "text/html": [
       "<div>\n",
       "<style scoped>\n",
       "    .dataframe tbody tr th:only-of-type {\n",
       "        vertical-align: middle;\n",
       "    }\n",
       "\n",
       "    .dataframe tbody tr th {\n",
       "        vertical-align: top;\n",
       "    }\n",
       "\n",
       "    .dataframe thead th {\n",
       "        text-align: right;\n",
       "    }\n",
       "</style>\n",
       "<table border=\"1\" class=\"dataframe\">\n",
       "  <thead>\n",
       "    <tr style=\"text-align: right;\">\n",
       "      <th></th>\n",
       "      <th>ProductID</th>\n",
       "      <th>ProductCategory</th>\n",
       "      <th>ProductName</th>\n",
       "      <th>QuantitySold</th>\n",
       "      <th>PricePerUnit</th>\n",
       "      <th>TotalSales</th>\n",
       "    </tr>\n",
       "  </thead>\n",
       "  <tbody>\n",
       "    <tr>\n",
       "      <th>0</th>\n",
       "      <td>101</td>\n",
       "      <td>Electronics</td>\n",
       "      <td>Laptop</td>\n",
       "      <td>50</td>\n",
       "      <td>1000</td>\n",
       "      <td>50000</td>\n",
       "    </tr>\n",
       "    <tr>\n",
       "      <th>1</th>\n",
       "      <td>102</td>\n",
       "      <td>Electronics</td>\n",
       "      <td>Smartphone</td>\n",
       "      <td>150</td>\n",
       "      <td>800</td>\n",
       "      <td>120000</td>\n",
       "    </tr>\n",
       "    <tr>\n",
       "      <th>2</th>\n",
       "      <td>103</td>\n",
       "      <td>Furniture</td>\n",
       "      <td>Sofa</td>\n",
       "      <td>20</td>\n",
       "      <td>500</td>\n",
       "      <td>10000</td>\n",
       "    </tr>\n",
       "    <tr>\n",
       "      <th>3</th>\n",
       "      <td>104</td>\n",
       "      <td>Furniture</td>\n",
       "      <td>Table</td>\n",
       "      <td>30</td>\n",
       "      <td>300</td>\n",
       "      <td>9000</td>\n",
       "    </tr>\n",
       "    <tr>\n",
       "      <th>4</th>\n",
       "      <td>105</td>\n",
       "      <td>Clothing</td>\n",
       "      <td>T-shirt</td>\n",
       "      <td>100</td>\n",
       "      <td>20</td>\n",
       "      <td>2000</td>\n",
       "    </tr>\n",
       "    <tr>\n",
       "      <th>5</th>\n",
       "      <td>106</td>\n",
       "      <td>Clothing</td>\n",
       "      <td>Jeans</td>\n",
       "      <td>60</td>\n",
       "      <td>40</td>\n",
       "      <td>2400</td>\n",
       "    </tr>\n",
       "    <tr>\n",
       "      <th>6</th>\n",
       "      <td>107</td>\n",
       "      <td>Clothing</td>\n",
       "      <td>Jacket</td>\n",
       "      <td>40</td>\n",
       "      <td>60</td>\n",
       "      <td>2400</td>\n",
       "    </tr>\n",
       "    <tr>\n",
       "      <th>7</th>\n",
       "      <td>108</td>\n",
       "      <td>Electronics</td>\n",
       "      <td>Headphones</td>\n",
       "      <td>70</td>\n",
       "      <td>100</td>\n",
       "      <td>7000</td>\n",
       "    </tr>\n",
       "    <tr>\n",
       "      <th>8</th>\n",
       "      <td>109</td>\n",
       "      <td>Furniture</td>\n",
       "      <td>Chair</td>\n",
       "      <td>15</td>\n",
       "      <td>150</td>\n",
       "      <td>2250</td>\n",
       "    </tr>\n",
       "    <tr>\n",
       "      <th>9</th>\n",
       "      <td>110</td>\n",
       "      <td>Electronics</td>\n",
       "      <td>Monitor</td>\n",
       "      <td>45</td>\n",
       "      <td>200</td>\n",
       "      <td>9000</td>\n",
       "    </tr>\n",
       "  </tbody>\n",
       "</table>\n",
       "</div>"
      ],
      "text/plain": [
       "   ProductID ProductCategory ProductName  QuantitySold  PricePerUnit  \\\n",
       "0        101     Electronics      Laptop            50          1000   \n",
       "1        102     Electronics  Smartphone           150           800   \n",
       "2        103       Furniture        Sofa            20           500   \n",
       "3        104       Furniture       Table            30           300   \n",
       "4        105        Clothing     T-shirt           100            20   \n",
       "5        106        Clothing       Jeans            60            40   \n",
       "6        107        Clothing      Jacket            40            60   \n",
       "7        108     Electronics  Headphones            70           100   \n",
       "8        109       Furniture       Chair            15           150   \n",
       "9        110     Electronics     Monitor            45           200   \n",
       "\n",
       "   TotalSales  \n",
       "0       50000  \n",
       "1      120000  \n",
       "2       10000  \n",
       "3        9000  \n",
       "4        2000  \n",
       "5        2400  \n",
       "6        2400  \n",
       "7        7000  \n",
       "8        2250  \n",
       "9        9000  "
      ]
     },
     "execution_count": 55,
     "metadata": {},
     "output_type": "execute_result"
    }
   ],
   "source": [
    "#Load the data into a Pandas DataFrame\n",
    "\n",
    "data = pd.read_excel(r\"C:\\Users\\dell\\Downloads\\Sample_Sales_Data.xlsx\")\n",
    "data"
   ]
  },
  {
   "cell_type": "code",
   "execution_count": 59,
   "id": "4ccff81d-2995-4297-9152-934a2482de58",
   "metadata": {},
   "outputs": [
    {
     "data": {
      "text/plain": [
       "array(['Electronics', 'Furniture', 'Clothing'], dtype=object)"
      ]
     },
     "execution_count": 59,
     "metadata": {},
     "output_type": "execute_result"
    }
   ],
   "source": [
    "#Check how many unique products we have in ProductCategory column\n",
    "\n",
    "data['ProductCategory'].unique()"
   ]
  },
  {
   "cell_type": "code",
   "execution_count": 45,
   "id": "1cf79f43-0197-42b6-8f25-6d4a44477609",
   "metadata": {},
   "outputs": [
    {
     "data": {
      "text/html": [
       "<div>\n",
       "<style scoped>\n",
       "    .dataframe tbody tr th:only-of-type {\n",
       "        vertical-align: middle;\n",
       "    }\n",
       "\n",
       "    .dataframe tbody tr th {\n",
       "        vertical-align: top;\n",
       "    }\n",
       "\n",
       "    .dataframe thead th {\n",
       "        text-align: right;\n",
       "    }\n",
       "</style>\n",
       "<table border=\"1\" class=\"dataframe\">\n",
       "  <thead>\n",
       "    <tr style=\"text-align: right;\">\n",
       "      <th></th>\n",
       "      <th>ProductID</th>\n",
       "      <th>ProductCategory</th>\n",
       "      <th>ProductName</th>\n",
       "      <th>QuantitySold</th>\n",
       "      <th>PricePerUnit</th>\n",
       "      <th>TotalSales</th>\n",
       "    </tr>\n",
       "  </thead>\n",
       "  <tbody>\n",
       "    <tr>\n",
       "      <th>4</th>\n",
       "      <td>105</td>\n",
       "      <td>Clothing</td>\n",
       "      <td>T-shirt</td>\n",
       "      <td>100</td>\n",
       "      <td>20</td>\n",
       "      <td>2000</td>\n",
       "    </tr>\n",
       "    <tr>\n",
       "      <th>5</th>\n",
       "      <td>106</td>\n",
       "      <td>Clothing</td>\n",
       "      <td>Jeans</td>\n",
       "      <td>60</td>\n",
       "      <td>40</td>\n",
       "      <td>2400</td>\n",
       "    </tr>\n",
       "    <tr>\n",
       "      <th>6</th>\n",
       "      <td>107</td>\n",
       "      <td>Clothing</td>\n",
       "      <td>Jacket</td>\n",
       "      <td>40</td>\n",
       "      <td>60</td>\n",
       "      <td>2400</td>\n",
       "    </tr>\n",
       "    <tr>\n",
       "      <th>0</th>\n",
       "      <td>101</td>\n",
       "      <td>Electronics</td>\n",
       "      <td>Laptop</td>\n",
       "      <td>50</td>\n",
       "      <td>1000</td>\n",
       "      <td>50000</td>\n",
       "    </tr>\n",
       "    <tr>\n",
       "      <th>1</th>\n",
       "      <td>102</td>\n",
       "      <td>Electronics</td>\n",
       "      <td>Smartphone</td>\n",
       "      <td>150</td>\n",
       "      <td>800</td>\n",
       "      <td>120000</td>\n",
       "    </tr>\n",
       "    <tr>\n",
       "      <th>7</th>\n",
       "      <td>108</td>\n",
       "      <td>Electronics</td>\n",
       "      <td>Headphones</td>\n",
       "      <td>70</td>\n",
       "      <td>100</td>\n",
       "      <td>7000</td>\n",
       "    </tr>\n",
       "    <tr>\n",
       "      <th>9</th>\n",
       "      <td>110</td>\n",
       "      <td>Electronics</td>\n",
       "      <td>Monitor</td>\n",
       "      <td>45</td>\n",
       "      <td>200</td>\n",
       "      <td>9000</td>\n",
       "    </tr>\n",
       "    <tr>\n",
       "      <th>2</th>\n",
       "      <td>103</td>\n",
       "      <td>Furniture</td>\n",
       "      <td>Sofa</td>\n",
       "      <td>20</td>\n",
       "      <td>500</td>\n",
       "      <td>10000</td>\n",
       "    </tr>\n",
       "    <tr>\n",
       "      <th>3</th>\n",
       "      <td>104</td>\n",
       "      <td>Furniture</td>\n",
       "      <td>Table</td>\n",
       "      <td>30</td>\n",
       "      <td>300</td>\n",
       "      <td>9000</td>\n",
       "    </tr>\n",
       "    <tr>\n",
       "      <th>8</th>\n",
       "      <td>109</td>\n",
       "      <td>Furniture</td>\n",
       "      <td>Chair</td>\n",
       "      <td>15</td>\n",
       "      <td>150</td>\n",
       "      <td>2250</td>\n",
       "    </tr>\n",
       "  </tbody>\n",
       "</table>\n",
       "</div>"
      ],
      "text/plain": [
       "   ProductID ProductCategory ProductName  QuantitySold  PricePerUnit  \\\n",
       "4        105        Clothing     T-shirt           100            20   \n",
       "5        106        Clothing       Jeans            60            40   \n",
       "6        107        Clothing      Jacket            40            60   \n",
       "0        101     Electronics      Laptop            50          1000   \n",
       "1        102     Electronics  Smartphone           150           800   \n",
       "7        108     Electronics  Headphones            70           100   \n",
       "9        110     Electronics     Monitor            45           200   \n",
       "2        103       Furniture        Sofa            20           500   \n",
       "3        104       Furniture       Table            30           300   \n",
       "8        109       Furniture       Chair            15           150   \n",
       "\n",
       "   TotalSales  \n",
       "4        2000  \n",
       "5        2400  \n",
       "6        2400  \n",
       "0       50000  \n",
       "1      120000  \n",
       "7        7000  \n",
       "9        9000  \n",
       "2       10000  \n",
       "3        9000  \n",
       "8        2250  "
      ]
     },
     "execution_count": 45,
     "metadata": {},
     "output_type": "execute_result"
    }
   ],
   "source": [
    "Val1= data.sort_values(by= [\"ProductCategory\"])\n",
    "Val1.head(11)"
   ]
  },
  {
   "cell_type": "code",
   "execution_count": 61,
   "id": "69c2c310-6024-4b6e-ac7b-b5e4d43137b4",
   "metadata": {},
   "outputs": [
    {
     "data": {
      "text/plain": [
       "ProductID                               318\n",
       "ProductCategory    ClothingClothingClothing\n",
       "ProductName              T-shirtJeansJacket\n",
       "QuantitySold                            200\n",
       "PricePerUnit                            120\n",
       "TotalSales                             6800\n",
       "dtype: object"
      ]
     },
     "execution_count": 61,
     "metadata": {},
     "output_type": "execute_result"
    }
   ],
   "source": [
    "#Calculate the total sales for Clothing product category.\n",
    "\n",
    "f1 =Val1.iloc[:3]\n",
    "SF1 = f1.sum()\n",
    "SF1"
   ]
  },
  {
   "cell_type": "code",
   "execution_count": 63,
   "id": "43655513-cd9f-4a42-8327-598e32bdb028",
   "metadata": {},
   "outputs": [
    {
     "data": {
      "text/plain": [
       "ProductID                                                   421\n",
       "ProductCategory    ElectronicsElectronicsElectronicsElectronics\n",
       "ProductName                   LaptopSmartphoneHeadphonesMonitor\n",
       "QuantitySold                                                315\n",
       "PricePerUnit                                               2100\n",
       "TotalSales                                               186000\n",
       "dtype: object"
      ]
     },
     "execution_count": 63,
     "metadata": {},
     "output_type": "execute_result"
    }
   ],
   "source": [
    "#Calculate the total sales for Electronics product category.\n",
    "\n",
    "f2 =Val1.iloc[3:7]\n",
    "SF2 = f2.sum()\n",
    "SF2"
   ]
  },
  {
   "cell_type": "code",
   "execution_count": 65,
   "id": "4dff0e4e-227a-4a6c-80ff-9694507a1c17",
   "metadata": {},
   "outputs": [
    {
     "data": {
      "text/plain": [
       "ProductID                                  316\n",
       "ProductCategory    FurnitureFurnitureFurniture\n",
       "ProductName                     SofaTableChair\n",
       "QuantitySold                                65\n",
       "PricePerUnit                               950\n",
       "TotalSales                               21250\n",
       "dtype: object"
      ]
     },
     "execution_count": 65,
     "metadata": {},
     "output_type": "execute_result"
    }
   ],
   "source": [
    "#Calculate the total sales for Furniture product category.\n",
    "\n",
    "f3 =Val1.iloc[7:]\n",
    "SF3 = f3.sum()\n",
    "SF3"
   ]
  },
  {
   "cell_type": "code",
   "execution_count": 67,
   "id": "e469f34a-851c-4df9-bf55-c99c450a8cae",
   "metadata": {},
   "outputs": [],
   "source": [
    "#•Find the top 5 products with the highest sales."
   ]
  },
  {
   "cell_type": "code",
   "execution_count": 69,
   "id": "8fb4ff60-c005-4fa6-b2f0-2f18f0b38fbe",
   "metadata": {},
   "outputs": [
    {
     "data": {
      "text/html": [
       "<div>\n",
       "<style scoped>\n",
       "    .dataframe tbody tr th:only-of-type {\n",
       "        vertical-align: middle;\n",
       "    }\n",
       "\n",
       "    .dataframe tbody tr th {\n",
       "        vertical-align: top;\n",
       "    }\n",
       "\n",
       "    .dataframe thead th {\n",
       "        text-align: right;\n",
       "    }\n",
       "</style>\n",
       "<table border=\"1\" class=\"dataframe\">\n",
       "  <thead>\n",
       "    <tr style=\"text-align: right;\">\n",
       "      <th></th>\n",
       "      <th>ProductID</th>\n",
       "      <th>ProductCategory</th>\n",
       "      <th>ProductName</th>\n",
       "      <th>QuantitySold</th>\n",
       "      <th>PricePerUnit</th>\n",
       "      <th>TotalSales</th>\n",
       "    </tr>\n",
       "  </thead>\n",
       "  <tbody>\n",
       "    <tr>\n",
       "      <th>1</th>\n",
       "      <td>102</td>\n",
       "      <td>Electronics</td>\n",
       "      <td>Smartphone</td>\n",
       "      <td>150</td>\n",
       "      <td>800</td>\n",
       "      <td>120000</td>\n",
       "    </tr>\n",
       "    <tr>\n",
       "      <th>0</th>\n",
       "      <td>101</td>\n",
       "      <td>Electronics</td>\n",
       "      <td>Laptop</td>\n",
       "      <td>50</td>\n",
       "      <td>1000</td>\n",
       "      <td>50000</td>\n",
       "    </tr>\n",
       "    <tr>\n",
       "      <th>2</th>\n",
       "      <td>103</td>\n",
       "      <td>Furniture</td>\n",
       "      <td>Sofa</td>\n",
       "      <td>20</td>\n",
       "      <td>500</td>\n",
       "      <td>10000</td>\n",
       "    </tr>\n",
       "    <tr>\n",
       "      <th>3</th>\n",
       "      <td>104</td>\n",
       "      <td>Furniture</td>\n",
       "      <td>Table</td>\n",
       "      <td>30</td>\n",
       "      <td>300</td>\n",
       "      <td>9000</td>\n",
       "    </tr>\n",
       "    <tr>\n",
       "      <th>9</th>\n",
       "      <td>110</td>\n",
       "      <td>Electronics</td>\n",
       "      <td>Monitor</td>\n",
       "      <td>45</td>\n",
       "      <td>200</td>\n",
       "      <td>9000</td>\n",
       "    </tr>\n",
       "  </tbody>\n",
       "</table>\n",
       "</div>"
      ],
      "text/plain": [
       "   ProductID ProductCategory ProductName  QuantitySold  PricePerUnit  \\\n",
       "1        102     Electronics  Smartphone           150           800   \n",
       "0        101     Electronics      Laptop            50          1000   \n",
       "2        103       Furniture        Sofa            20           500   \n",
       "3        104       Furniture       Table            30           300   \n",
       "9        110     Electronics     Monitor            45           200   \n",
       "\n",
       "   TotalSales  \n",
       "1      120000  \n",
       "0       50000  \n",
       "2       10000  \n",
       "3        9000  \n",
       "9        9000  "
      ]
     },
     "execution_count": 69,
     "metadata": {},
     "output_type": "execute_result"
    }
   ],
   "source": [
    "Val= data.sort_values(by= [\"TotalSales\"], ascending=[False])\n",
    "Val.head()"
   ]
  },
  {
   "cell_type": "code",
   "execution_count": null,
   "id": "0a501c1d-9d62-47b6-af7f-4e0bdcc69ee9",
   "metadata": {},
   "outputs": [],
   "source": []
  },
  {
   "cell_type": "code",
   "execution_count": null,
   "id": "93ab769e-f2fd-4948-8f66-a75f84a24bf4",
   "metadata": {},
   "outputs": [],
   "source": []
  },
  {
   "cell_type": "code",
   "execution_count": null,
   "id": "f100ef3a-0308-48d7-9e54-de1197bd9fc4",
   "metadata": {},
   "outputs": [],
   "source": [
    "#5. Numpy Array Operations\n",
    "#Create a 3x3 NumPy array with random integers. Perform the following operations:\n",
    "#Compute the sum of all elements in the array.\n",
    "#Find the mean and standard deviation of the elements.\n",
    "#Normalize the array (subtract the mean and divide by the standard deviation)."
   ]
  },
  {
   "cell_type": "code",
   "execution_count": 71,
   "id": "fcdea25b-5ff0-4b1d-9e87-b56b2612685b",
   "metadata": {},
   "outputs": [
    {
     "data": {
      "text/plain": [
       "array([[10, 20, 30],\n",
       "       [ 5, 15, 25],\n",
       "       [ 3,  3,  3]])"
      ]
     },
     "execution_count": 71,
     "metadata": {},
     "output_type": "execute_result"
    }
   ],
   "source": [
    "#–Create a 3x3 NumPy array with random integers. Perform the following operations:\n",
    "\n",
    "a = np.array([[10, 20, 30], [5, 15, 25], [3, 3, 3]])\n",
    "a"
   ]
  },
  {
   "cell_type": "code",
   "execution_count": 83,
   "id": "7e942b9d-9dbf-4ffc-8652-ff38370d7ca0",
   "metadata": {},
   "outputs": [
    {
     "name": "stdout",
     "output_type": "stream",
     "text": [
      "Sum of Arr :  114\n"
     ]
    }
   ],
   "source": [
    "#Compute the sum of all elements in the array.\n",
    "\n",
    "print(\"Sum of Arr : \", np.sum(a))"
   ]
  },
  {
   "cell_type": "code",
   "execution_count": 87,
   "id": "bd0324fb-d925-4292-b40d-4b95e43db2c5",
   "metadata": {},
   "outputs": [
    {
     "data": {
      "text/plain": [
       "12.666666666666666"
      ]
     },
     "execution_count": 87,
     "metadata": {},
     "output_type": "execute_result"
    }
   ],
   "source": [
    "#Find the mean and standard deviation of the elements.\n",
    "#mean\n",
    "\n",
    "M = np.mean(a)\n",
    "M"
   ]
  },
  {
   "cell_type": "code",
   "execution_count": 89,
   "id": "85aefca3-59f5-42ed-a019-0cc76e048427",
   "metadata": {},
   "outputs": [
    {
     "data": {
      "text/plain": [
       "9.76387901058454"
      ]
     },
     "execution_count": 89,
     "metadata": {},
     "output_type": "execute_result"
    }
   ],
   "source": [
    "#Standard Deviation\n",
    "Stdd = np.std(a)\n",
    "Stdd"
   ]
  },
  {
   "cell_type": "code",
   "execution_count": 91,
   "id": "4d46a5f8-bd1e-484c-b029-0fb6cacdc81b",
   "metadata": {},
   "outputs": [],
   "source": [
    "#Normalize the array (subtract the mean and divide by the standard deviation).\n",
    "\n",
    "Nor = []\n",
    "for i in range(len(a)):\n",
    "    result = (a[i] - M)/Stdd\n",
    "    Nor.append(result)"
   ]
  },
  {
   "cell_type": "code",
   "execution_count": 93,
   "id": "e47fae5e-8939-4254-8081-5dd52416a923",
   "metadata": {},
   "outputs": [
    {
     "data": {
      "text/plain": [
       "[array([-0.2731155 ,  0.75106762,  1.77525073]),\n",
       " array([-0.78520705,  0.23897606,  1.26315917]),\n",
       " array([-0.99004368, -0.99004368, -0.99004368])]"
      ]
     },
     "execution_count": 93,
     "metadata": {},
     "output_type": "execute_result"
    }
   ],
   "source": [
    "Nor"
   ]
  },
  {
   "cell_type": "code",
   "execution_count": 95,
   "id": "d1e62385-35d6-437e-9da4-227644b40b3b",
   "metadata": {},
   "outputs": [],
   "source": [
    "#Normalization done"
   ]
  },
  {
   "cell_type": "code",
   "execution_count": null,
   "id": "884a806e-7623-425a-84d2-6a12d4af4aab",
   "metadata": {},
   "outputs": [],
   "source": []
  }
 ],
 "metadata": {
  "kernelspec": {
   "display_name": "Python 3 (ipykernel)",
   "language": "python",
   "name": "python3"
  },
  "language_info": {
   "codemirror_mode": {
    "name": "ipython",
    "version": 3
   },
   "file_extension": ".py",
   "mimetype": "text/x-python",
   "name": "python",
   "nbconvert_exporter": "python",
   "pygments_lexer": "ipython3",
   "version": "3.12.4"
  }
 },
 "nbformat": 4,
 "nbformat_minor": 5
}
